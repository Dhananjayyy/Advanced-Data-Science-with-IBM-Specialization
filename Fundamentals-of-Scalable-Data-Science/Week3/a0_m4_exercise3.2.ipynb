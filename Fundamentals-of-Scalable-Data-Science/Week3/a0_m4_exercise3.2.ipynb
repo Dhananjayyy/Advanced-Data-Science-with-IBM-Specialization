{
 "cells": [
  {
   "cell_type": "markdown",
   "metadata": {},
   "source": [
    "# Exercise 3.2\n",
    "Welcome to the last exercise of this course. This is also the most advanced one because it somehow glues everything together you've learned. \n",
    "\n",
    "These are the steps you will do:\n",
    "- load a data frame from cloudant/ApacheCouchDB\n",
    "- perform feature transformation by calculating minimal and maximal values of different properties on time windows (we'll explain what a time windows is later in here)\n",
    "- reduce these now twelve dimensions to three using the PCA (Principal Component Analysis) algorithm of SparkML (Spark Machine Learning) => We'll actually make use of SparkML a lot more in the next course\n",
    "- plot the dimensionality reduced data set\n",
    "\n",
    "### TODO Please provide your Cloudant credentials here"
   ]
  },
  {
   "cell_type": "code",
   "execution_count": 5,
   "metadata": {
    "collapsed": true
   },
   "outputs": [],
   "source": [
    "hostname = \"\"\n",
    "user = \"\"\n",
    "pw = \"\"\n",
    "database = \"washing\""
   ]
  },
  {
   "cell_type": "code",
   "execution_count": 6,
   "metadata": {
    "collapsed": true
   },
   "outputs": [],
   "source": [
    "spark = SparkSession\\\n",
    "    .builder\\\n",
    "    .appName(\"Cloudant Spark SQL Example in Python using temp tables\")\\\n",
    "    .config(\"cloudant.host\",hostname)\\\n",
    "    .config(\"cloudant.username\", user)\\\n",
    "    .config(\"cloudant.password\",pw)\\\n",
    "    .getOrCreate()\n"
   ]
  },
  {
   "cell_type": "code",
   "execution_count": 7,
   "metadata": {
    "collapsed": true
   },
   "outputs": [],
   "source": [
    "#Please don't modify this function\n",
    "def readDataFrameFromCloudant(database):\n",
    "    cloudantdata=spark.read.load(database, \"org.apache.bahir.cloudant\")\n",
    "\n",
    "    cloudantdata.createOrReplaceTempView(\"washing\")\n",
    "    spark.sql(\"SELECT * from washing\").show()\n",
    "    return cloudantdata"
   ]
  },
  {
   "cell_type": "code",
   "execution_count": null,
   "metadata": {},
   "outputs": [],
   "source": [
    "cloudantdata=readDataFrameFromCloudant(database)\n",
    "cloudantdata.createOrReplaceTempView(\"washing\")\n",
    "spark.sql(\"SELECT * FROM washing\").show()"
   ]
  },
  {
   "cell_type": "markdown",
   "metadata": {},
   "source": [
    "This is the feature transformation part of this exercise. Since our table is mixing schemas from different sensor data sources we are creating new features. In other word we use existing columns to calculate new ones. We only use min and max for now, but using more advanced aggregations as we've learned in week three may improve the results. We are calculating those aggregations over a sliding window \"w\". This window is defined in the SQL statement and basically reads the table by a one by one stride in direction of increasing timestamp. Whenever a row leaves the window a new one is included. Therefore this window is called sliding window (in contrast to tubling, time or count windows). More on this can be found here: https://flink.apache.org/news/2015/12/04/Introducing-windows.html\n",
    "\n"
   ]
  },
  {
   "cell_type": "code",
   "execution_count": 13,
   "metadata": {},
   "outputs": [],
   "source": [
    "result = spark.sql(\"\"\"\n",
    "SELECT * from (\n",
    "    SELECT\n",
    "    min(temperature) over w as min_temperature,\n",
    "    max(temperature) over w as max_temperature, \n",
    "    min(voltage) over w as min_voltage,\n",
    "    max(voltage) over w as max_voltage,\n",
    "    min(flowrate) over w as min_flowrate,\n",
    "    max(flowrate) over w as max_flowrate,\n",
    "    min(frequency) over w as min_frequency,\n",
    "    max(frequency) over w as max_frequency,\n",
    "    min(hardness) over w as min_hardness,\n",
    "    max(hardness) over w as max_hardness,\n",
    "    min(speed) over w as min_speed,\n",
    "    max(speed) over w as max_speed\n",
    "    FROM washing \n",
    "    WINDOW w AS (ORDER BY ts ROWS BETWEEN CURRENT ROW AND 10 FOLLOWING) \n",
    ")\n",
    "WHERE min_temperature is not null \n",
    "AND max_temperature is not null\n",
    "AND min_voltage is not null\n",
    "AND max_voltage is not null\n",
    "AND min_flowrate is not null\n",
    "AND max_flowrate is not null\n",
    "AND min_frequency is not null\n",
    "AND max_frequency is not null\n",
    "AND min_hardness is not null\n",
    "AND min_speed is not null\n",
    "AND max_speed is not null   \n",
    "\"\"\")"
   ]
  },
  {
   "cell_type": "markdown",
   "metadata": {},
   "source": [
    "Since this table contains null values also our window might contain them. In case for a certain feature all values in that window are null we obtain also null. As we can see here (in my dataset) this is the case for 9 rows."
   ]
  },
  {
   "cell_type": "code",
   "execution_count": 16,
   "metadata": {},
   "outputs": [
    {
     "data": {
      "text/plain": [
       "9"
      ]
     },
     "execution_count": 16,
     "metadata": {},
     "output_type": "execute_result"
    }
   ],
   "source": [
    "cloudantdata.count()-result.count()"
   ]
  },
  {
   "cell_type": "markdown",
   "metadata": {},
   "source": [
    "Now we import some classes from SparkML. PCA for the actual algorithm. Vectors for the data structure expected by PCA and VectorAssembler to transform data into these vector structures."
   ]
  },
  {
   "cell_type": "code",
   "execution_count": 18,
   "metadata": {
    "collapsed": true
   },
   "outputs": [],
   "source": [
    "from pyspark.ml.feature import PCA\n",
    "from pyspark.ml.linalg import Vectors\n",
    "from pyspark.ml.feature import VectorAssembler"
   ]
  },
  {
   "cell_type": "markdown",
   "metadata": {},
   "source": [
    "Let's define a vector transformation helper class which takes all our input features (result.columns) and created one additional column called \"features\" which contains all our input features as one single column wrapped in \"DenseVector\" objects"
   ]
  },
  {
   "cell_type": "code",
   "execution_count": 19,
   "metadata": {},
   "outputs": [],
   "source": [
    "assembler = VectorAssembler(inputCols=result.columns, outputCol=\"features\")"
   ]
  },
  {
   "cell_type": "markdown",
   "metadata": {},
   "source": [
    "Now we actually transform the data, note that this is highly optimized code and runs really fast in contrast if we had implemented it."
   ]
  },
  {
   "cell_type": "code",
   "execution_count": 20,
   "metadata": {},
   "outputs": [],
   "source": [
    "features = assembler.transform(result)"
   ]
  },
  {
   "cell_type": "markdown",
   "metadata": {},
   "source": [
    "Let's have a look at how this new additional column \"features\" looks like:"
   ]
  },
  {
   "cell_type": "code",
   "execution_count": 21,
   "metadata": {},
   "outputs": [
    {
     "data": {
      "text/plain": [
       "[DenseVector([84.0, 100.0, 221.0, 227.0, 11.0, 11.0, 78.0, 80.0, 71.0, 79.0, 1021.0, 1021.0]),\n",
       " DenseVector([84.0, 100.0, 221.0, 234.0, 11.0, 11.0, 68.0, 80.0, 71.0, 79.0, 1021.0, 1021.0]),\n",
       " DenseVector([84.0, 100.0, 221.0, 234.0, 11.0, 11.0, 68.0, 80.0, 71.0, 78.0, 1021.0, 1021.0]),\n",
       " DenseVector([84.0, 100.0, 221.0, 234.0, 11.0, 11.0, 68.0, 80.0, 71.0, 78.0, 1013.0, 1021.0]),\n",
       " DenseVector([84.0, 100.0, 221.0, 234.0, 11.0, 11.0, 68.0, 80.0, 71.0, 80.0, 1013.0, 1021.0]),\n",
       " DenseVector([84.0, 100.0, 221.0, 234.0, 11.0, 11.0, 68.0, 80.0, 71.0, 80.0, 1013.0, 1021.0]),\n",
       " DenseVector([84.0, 100.0, 221.0, 235.0, 11.0, 11.0, 68.0, 80.0, 71.0, 80.0, 1013.0, 1013.0]),\n",
       " DenseVector([84.0, 99.0, 221.0, 235.0, 11.0, 11.0, 68.0, 80.0, 71.0, 80.0, 1013.0, 1013.0]),\n",
       " DenseVector([84.0, 99.0, 234.0, 235.0, 11.0, 11.0, 68.0, 69.0, 71.0, 80.0, 1013.0, 1013.0]),\n",
       " DenseVector([81.0, 99.0, 234.0, 235.0, 11.0, 11.0, 68.0, 69.0, 71.0, 80.0, 1013.0, 1013.0])]"
      ]
     },
     "execution_count": 21,
     "metadata": {},
     "output_type": "execute_result"
    }
   ],
   "source": [
    "features.rdd.map(lambda r : r.features).take(10)"
   ]
  },
  {
   "cell_type": "markdown",
   "metadata": {},
   "source": [
    "Since the source data set has been prepared as a list of DenseVectors we can now apply PCA. Note that the first line again only prepares the algorithm by finding the transformation matrices (fit method)"
   ]
  },
  {
   "cell_type": "code",
   "execution_count": 22,
   "metadata": {},
   "outputs": [],
   "source": [
    "pca = PCA(k=3, inputCol=\"features\", outputCol=\"pcaFeatures\")\n",
    "model = pca.fit(features)"
   ]
  },
  {
   "cell_type": "markdown",
   "metadata": {},
   "source": [
    "Now we can actually transform the data. Let's have a look at the first 20 rows"
   ]
  },
  {
   "cell_type": "code",
   "execution_count": 23,
   "metadata": {},
   "outputs": [
    {
     "name": "stdout",
     "output_type": "stream",
     "text": [
      "+------------------------------------------------------------+\n",
      "|pcaFeatures                                                 |\n",
      "+------------------------------------------------------------+\n",
      "|[-1444.7627093931442,107.53692372193744,-46.686034842021854]|\n",
      "|[-1444.787411514675,107.49085260058774,-46.782512584982555] |\n",
      "|[-1444.7923464924663,106.580321750737,-46.76696734942038]   |\n",
      "|[-1439.332800549061,106.62006720714471,-40.921466292192235] |\n",
      "|[-1439.3229305934783,108.4411289068462,-40.952556763316466] |\n",
      "|[-1439.3229305934783,108.4411289068462,-40.952556763316466] |\n",
      "|[-1433.480970198666,108.3303901125088,-46.40949083910425]   |\n",
      "|[-1433.4805106900876,108.3310907367881,-46.406680154246715] |\n",
      "|[-1433.532920577792,108.34825263078284,-46.02655402812036]  |\n",
      "|[-1433.5326216780854,108.35171511954002,-46.04151255077454] |\n",
      "|[-1438.6487319638636,108.4449198058049,-41.26704128181234]  |\n",
      "|[-1438.6104780580567,108.45313069769479,-41.45465434625896] |\n",
      "|[-1438.6109375666354,108.4524300734155,-41.4574650311165]   |\n",
      "|[-1438.6109375666354,108.4524300734155,-41.4574650311165]   |\n",
      "|[-1443.388040267115,108.41765279905874,-46.57227845619116]  |\n",
      "|[-1443.3526795888592,108.42310694639266,-46.771949178309114]|\n",
      "|[-1443.3526795888592,108.42310694639266,-46.771949178309114]|\n",
      "|[-1443.317520066319,108.45264101663551,-46.769180799491664] |\n",
      "|[-1456.46886685538,109.10542402671886,-34.488520265297666]  |\n",
      "|[-1456.46886685538,109.10542402671886,-34.488520265297666]  |\n",
      "+------------------------------------------------------------+\n",
      "only showing top 20 rows\n",
      "\n"
     ]
    }
   ],
   "source": [
    "result_pca = model.transform(features).select(\"pcaFeatures\")\n",
    "result_pca.show(truncate=False)"
   ]
  },
  {
   "cell_type": "markdown",
   "metadata": {},
   "source": [
    "So we obtained three completely new columns which we can plot now. Let run a final check if the number of rows is the same."
   ]
  },
  {
   "cell_type": "code",
   "execution_count": 24,
   "metadata": {},
   "outputs": [
    {
     "data": {
      "text/plain": [
       "23693"
      ]
     },
     "execution_count": 24,
     "metadata": {},
     "output_type": "execute_result"
    }
   ],
   "source": [
    "result_pca.count()"
   ]
  },
  {
   "cell_type": "markdown",
   "metadata": {},
   "source": [
    "Cool, this works as expected. Now we obtain a sample and read each of the three columns into a python list"
   ]
  },
  {
   "cell_type": "code",
   "execution_count": 25,
   "metadata": {
    "collapsed": true
   },
   "outputs": [],
   "source": [
    "rdd = result_pca.rdd.sample(False,0.1)"
   ]
  },
  {
   "cell_type": "code",
   "execution_count": 26,
   "metadata": {},
   "outputs": [],
   "source": [
    "x = result_pca.rdd.map(lambda a : a.pcaFeatures).map(lambda a : a[0]).collect()"
   ]
  },
  {
   "cell_type": "code",
   "execution_count": 27,
   "metadata": {
    "collapsed": true
   },
   "outputs": [],
   "source": [
    "y = result_pca.rdd.map(lambda a : a.pcaFeatures).map(lambda a : a[1]).collect()"
   ]
  },
  {
   "cell_type": "code",
   "execution_count": 28,
   "metadata": {
    "collapsed": true
   },
   "outputs": [],
   "source": [
    "z = result_pca.rdd.map(lambda a : a.pcaFeatures).map(lambda a : a[2]).collect()"
   ]
  },
  {
   "cell_type": "markdown",
   "metadata": {},
   "source": [
    "Finally we plot the three lists and name each of them as dimension 1-3 in the plot"
   ]
  },
  {
   "cell_type": "code",
   "execution_count": 29,
   "metadata": {},
   "outputs": [
    {
     "data": {
      "image/png": "[encoded data removed]",
      "text/plain": [
       "<matplotlib.figure.Figure at 0x7f1010733150>"
      ]
     },
     "metadata": {},
     "output_type": "display_data"
    }
   ],
   "source": [
    "%matplotlib inline\n",
    "import matplotlib.pyplot as plt\n",
    "from mpl_toolkits.mplot3d import Axes3D\n",
    "\n",
    "\n",
    "fig = plt.figure()\n",
    "ax = fig.add_subplot(111, projection='3d')\n",
    "\n",
    "\n",
    "\n",
    "\n",
    "ax.scatter(x,y,z, c='r', marker='o')\n",
    "\n",
    "ax.set_xlabel('dimension1')\n",
    "ax.set_ylabel('dimension2')\n",
    "ax.set_zlabel('dimension3')\n",
    "\n",
    "plt.show()"
   ]
  },
  {
   "cell_type": "markdown",
   "metadata": {
    "collapsed": true
   },
   "source": [
    "Congratulations, we are done! We can see two clusters in the data set. We can also see a third cluster which either can be outliers or a real cluster. In the next course we will actually learn how to compute clusters automatically. For now we know that the data indicates that there are two semi-stable states of the machine and sometime we see some anomalies since those data points don't fit into one of the two clusters."
   ]
  }
 ],
 "metadata": {
  "kernelspec": {
   "display_name": "Python 2 with Spark 2.0",
   "language": "python",
   "name": "python2-spark20"
  },
  "language_info": {
   "codemirror_mode": {
    "name": "ipython",
    "version": 2
   },
   "file_extension": ".py",
   "mimetype": "text/x-python",
   "name": "python",
   "nbconvert_exporter": "python",
   "pygments_lexer": "ipython2",
   "version": "2.7.11"
  }
 },
 "nbformat": 4,
 "nbformat_minor": 1
}
