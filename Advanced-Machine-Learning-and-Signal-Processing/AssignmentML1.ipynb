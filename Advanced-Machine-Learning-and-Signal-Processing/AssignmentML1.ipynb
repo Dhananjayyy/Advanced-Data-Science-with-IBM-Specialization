{
 "cells": [
  {
   "cell_type": "markdown",
   "metadata": {},
   "source": [
    "This is the first assgiment for the Coursera course \"Advanced Machine Learning and Signal Processing\"\n",
    "\n",
    "The first step is to insert the credentials to the Apache CouchDB / Cloudant database where your sensor data ist stored to. \n",
    "\n",
    "1. In the project's overview tab of this project just select \"Add to project\"->Connection\n",
    "2. From the section \"Your service instances in IBM Cloud\" select your cloudant database and click on \"create\"\n",
    "3. Now click in the empty cell below labeled with \"your cloudant credentials go here\"\n",
    "4. Click on the \"10-01\" symbol top right and selecrt the \"Connections\" tab\n",
    "5. Find your data base connection and click on \"Insert to code\"\n",
    "\n",
    "The following video illustrates this process: https://www.youtube.com/watch?v=dCawUGv7qgs\n",
    "\n",
    "Done, just execute all cells one after the other and you are done - just note that in the last one you have to update your email address (the one you've used for coursera) and obtain a submittion token, you get this from the programming assingment directly on coursera."
   ]
  },
  {
   "cell_type": "code",
   "execution_count": 19,
   "metadata": {},
   "outputs": [],
   "source": [
    "#your cloudant credentials go here\n"
   ]
  },
  {
   "cell_type": "code",
   "execution_count": 20,
   "metadata": {},
   "outputs": [],
   "source": [
    "spark = SparkSession\\\n",
    "    .builder\\\n",
    "    .appName(\"Cloudant Spark SQL Example in Python using temp tables\")\\\n",
    "    .config(\"cloudant.host\",credentials_1['custom_url'].split('@')[1])\\\n",
    "    .config(\"cloudant.username\", credentials_1['username'])\\\n",
    "    .config(\"cloudant.password\",credentials_1['password'])\\\n",
    "    .config(\"jsonstore.rdd.partitions\", 1)\\\n",
    "    .getOrCreate()"
   ]
  },
  {
   "cell_type": "code",
   "execution_count": 21,
   "metadata": {},
   "outputs": [
    {
     "name": "stdout",
     "output_type": "stream",
     "text": [
      "+-----+--------+---+---+---+--------------------+--------------------+\n",
      "|CLASS|SENSORID|  X|  Y|  Z|                 _id|                _rev|\n",
      "+-----+--------+---+---+---+--------------------+--------------------+\n",
      "|    1|aaaaaaaa|  0|  0|  0|0eeeb898fd10f9b42...|1-714c9494227f549...|\n",
      "|    1|aaaaaaaa|  0|  0|  0|0eeeb898fd10f9b42...|1-714c9494227f549...|\n",
      "|    1|aaaaaaaa|  0|  0|  0|0eeeb898fd10f9b42...|1-714c9494227f549...|\n",
      "|    1|aaaaaaaa|  0|  0|  0|0eeeb898fd10f9b42...|1-714c9494227f549...|\n",
      "|    1|aaaaaaaa|  0|  0|  0|0eeeb898fd10f9b42...|1-714c9494227f549...|\n",
      "|    0|aaaaaaaa|  0|  0|  0|2da2ace9279cabe9c...|1-fdae515ae136777...|\n",
      "|    1|aaaaaaaa|  0|  0|  0|2da2ace9279cabe9c...|1-714c9494227f549...|\n",
      "|    1|aaaaaaaa|  0|  0|  0|2da2ace9279cabe9c...|1-714c9494227f549...|\n",
      "|    1|aaaaaaaa|  0|  0|  0|2da2ace9279cabe9c...|1-714c9494227f549...|\n",
      "|    0|aaaaaaaa|  0|  0|  0|393634080f1035163...|1-fdae515ae136777...|\n",
      "|    1|aaaaaaaa|  0|  0|  0|393634080f1035163...|1-714c9494227f549...|\n",
      "|    1|aaaaaaaa|  0|  0|  0|393634080f1035163...|1-714c9494227f549...|\n",
      "|    1|aaaaaaaa|  0|  0|  0|393634080f1035163...|1-714c9494227f549...|\n",
      "|    1|aaaaaaaa|  0|  0|  0|393634080f1035163...|1-714c9494227f549...|\n",
      "|    1|aaaaaaaa|  0|  0|  0|393634080f1035163...|1-714c9494227f549...|\n",
      "|    1|aaaaaaaa|  0|  0|  0|393634080f1035163...|1-714c9494227f549...|\n",
      "|    1|aaaaaaaa|  0|  0|  0|393634080f1035163...|1-714c9494227f549...|\n",
      "|    0|aaaaaaaa|  0|  0|  0|4beaf935ec5eb2814...|1-fdae515ae136777...|\n",
      "|    0|aaaaaaaa|  0|  0|  0|4beaf935ec5eb2814...|1-fdae515ae136777...|\n",
      "|    1|aaaaaaaa|  0|  0|  0|4beaf935ec5eb2814...|1-714c9494227f549...|\n",
      "+-----+--------+---+---+---+--------------------+--------------------+\n",
      "only showing top 20 rows\n",
      "\n"
     ]
    }
   ],
   "source": [
    "df=spark.read.load('shake', \"com.cloudant.spark\")\n",
    "\n",
    "df.createOrReplaceTempView(\"df\")\n",
    "spark.sql(\"SELECT * from df\").show()\n"
   ]
  },
  {
   "cell_type": "code",
   "execution_count": 26,
   "metadata": {},
   "outputs": [],
   "source": [
    "!rm -Rf a2_m1.parquet"
   ]
  },
  {
   "cell_type": "code",
   "execution_count": 27,
   "metadata": {},
   "outputs": [],
   "source": [
    "df = df.repartition(1)\n",
    "df.write.json('a2_m1.json')"
   ]
  },
  {
   "cell_type": "code",
   "execution_count": 28,
   "metadata": {},
   "outputs": [
    {
     "name": "stdout",
     "output_type": "stream",
     "text": [
      "--2018-05-27 12:24:50--  https://raw.githubusercontent.com/romeokienzler/developerWorks/master/coursera/ai/rklib.py\n",
      "Resolving raw.githubusercontent.com (raw.githubusercontent.com)... 151.101.48.133\n",
      "Connecting to raw.githubusercontent.com (raw.githubusercontent.com)|151.101.48.133|:443... connected.\n",
      "HTTP request sent, awaiting response... 200 OK\n",
      "Length: 2029 (2.0K) [text/plain]\n",
      "Saving to: ‘rklib.py’\n",
      "\n",
      "100%[======================================>] 2,029       --.-K/s   in 0s      \n",
      "\n",
      "2018-05-27 12:24:50 (20.2 MB/s) - ‘rklib.py’ saved [2029/2029]\n",
      "\n"
     ]
    }
   ],
   "source": [
    "!rm -f rklib.py\n",
    "!wget https://raw.githubusercontent.com/romeokienzler/developerWorks/master/coursera/ai/rklib.py"
   ]
  },
  {
   "cell_type": "code",
   "execution_count": 29,
   "metadata": {},
   "outputs": [
    {
     "name": "stdout",
     "output_type": "stream",
     "text": [
      "updating: a2_m1.parquet/ (stored 0%)\r\n",
      "updating: a2_m1.parquet/_SUCCESS (stored 0%)\r\n",
      "updating: a2_m1.parquet/._SUCCESS.crc (stored 0%)\r\n",
      "  adding: a2_m1.parquet/.part-00000-8dedcb0a-d209-4757-adbd-0b6ff434e06d.snappy.parquet.crc (stored 0%)\r\n",
      "  adding: a2_m1.parquet/part-00000-8dedcb0a-d209-4757-adbd-0b6ff434e06d.snappy.parquet (deflated 53%)\r\n"
     ]
    }
   ],
   "source": [
    "!zip -r a2_m1.json.zip a2_m1.json"
   ]
  },
  {
   "cell_type": "code",
   "execution_count": 30,
   "metadata": {},
   "outputs": [],
   "source": [
    "!base64 a2_m1.json.zip > a2_m1.json.zip.base64"
   ]
  },
  {
   "cell_type": "code",
   "execution_count": 44,
   "metadata": {},
   "outputs": [
    {
     "name": "stdout",
     "output_type": "stream",
     "text": [
      "Submission successful, please check on the coursera grader page for the status\n"
     ]
    }
   ],
   "source": [
    "from rklib import submit\n",
    "key = \"1injH2F0EeiLlRJ3eJKoXA\"\n",
    "part = \"wNLDt\"\n",
    "email = \"romeo.kienzler@ch.ibm.com\"\n",
    "secret = \"LmH3xl5RfXEcpMMb\"\n",
    "\n",
    "with open('a2_m1.json.zip.base64', 'r') as myfile:\n",
    "    data=myfile.read()\n",
    "submit(email, secret, key, part, [part], data)"
   ]
  },
  {
   "cell_type": "code",
   "execution_count": null,
   "metadata": {},
   "outputs": [],
   "source": []
  }
 ],
 "metadata": {
  "kernelspec": {
   "display_name": "Python 3.5 with Spark 2.1",
   "language": "python",
   "name": "python3-spark21"
  },
  "language_info": {
   "codemirror_mode": {
    "name": "ipython",
    "version": 3
   },
   "file_extension": ".py",
   "mimetype": "text/x-python",
   "name": "python",
   "nbconvert_exporter": "python",
   "pygments_lexer": "ipython3",
   "version": "3.5.4"
  }
 },
 "nbformat": 4,
 "nbformat_minor": 1
}
